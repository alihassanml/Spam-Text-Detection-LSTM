{
 "cells": [
  {
   "cell_type": "markdown",
   "id": "9a9de4d4",
   "metadata": {
    "_cell_guid": "b1076dfc-b9ad-4769-8c92-a6c4dae69d19",
    "_uuid": "8f2839f25d086af736a60e9eeb907d3b93b6e0e5",
    "papermill": {
     "duration": 0.010656,
     "end_time": "2024-08-25T05:01:28.412140",
     "exception": false,
     "start_time": "2024-08-25T05:01:28.401484",
     "status": "completed"
    },
    "tags": []
   },
   "source": [
    "# **Text Classification using LSTM: Spam or Ham**\n",
    "\n",
    "1. Introduction\n",
    "      \n",
    "      This project aims to classify text messages as either spam or ham (non-spam) using a Long Short-Term Memory (LSTM) neural network. LSTM networks are well-suited for sequential data and can capture long-range dependencies, making them ideal for text classification tasks."
   ]
  },
  {
   "cell_type": "code",
   "execution_count": 1,
   "id": "4d896a06",
   "metadata": {
    "execution": {
     "iopub.execute_input": "2024-08-25T05:01:28.432041Z",
     "iopub.status.busy": "2024-08-25T05:01:28.431269Z",
     "iopub.status.idle": "2024-08-25T05:01:30.950012Z",
     "shell.execute_reply": "2024-08-25T05:01:30.949057Z"
    },
    "papermill": {
     "duration": 2.531089,
     "end_time": "2024-08-25T05:01:30.952471",
     "exception": false,
     "start_time": "2024-08-25T05:01:28.421382",
     "status": "completed"
    },
    "tags": []
   },
   "outputs": [],
   "source": [
    "import pandas as pd \n",
    "import numpy as np \n",
    "import matplotlib.pyplot as plt\n",
    "import seaborn as sns\n",
    "import warnings\n",
    "warnings.filterwarnings('ignore')"
   ]
  },
  {
   "cell_type": "markdown",
   "id": "01eb59de",
   "metadata": {
    "papermill": {
     "duration": 0.008521,
     "end_time": "2024-08-25T05:01:30.970115",
     "exception": false,
     "start_time": "2024-08-25T05:01:30.961594",
     "status": "completed"
    },
    "tags": []
   },
   "source": [
    "# **Dataset**\n",
    "The dataset consists of labeled text messages. Each message is labeled as either \"spam\" or \"ham.\" The dataset is preprocessed to remove noise, convert text to lowercase, and tokenize the words."
   ]
  },
  {
   "cell_type": "code",
   "execution_count": 2,
   "id": "5da435ba",
   "metadata": {
    "execution": {
     "iopub.execute_input": "2024-08-25T05:01:30.989116Z",
     "iopub.status.busy": "2024-08-25T05:01:30.988276Z",
     "iopub.status.idle": "2024-08-25T05:01:31.041288Z",
     "shell.execute_reply": "2024-08-25T05:01:31.040403Z"
    },
    "papermill": {
     "duration": 0.06469,
     "end_time": "2024-08-25T05:01:31.043424",
     "exception": false,
     "start_time": "2024-08-25T05:01:30.978734",
     "status": "completed"
    },
    "tags": []
   },
   "outputs": [
    {
     "data": {
      "text/html": [
       "<div>\n",
       "<style scoped>\n",
       "    .dataframe tbody tr th:only-of-type {\n",
       "        vertical-align: middle;\n",
       "    }\n",
       "\n",
       "    .dataframe tbody tr th {\n",
       "        vertical-align: top;\n",
       "    }\n",
       "\n",
       "    .dataframe thead th {\n",
       "        text-align: right;\n",
       "    }\n",
       "</style>\n",
       "<table border=\"1\" class=\"dataframe\">\n",
       "  <thead>\n",
       "    <tr style=\"text-align: right;\">\n",
       "      <th></th>\n",
       "      <th>v1</th>\n",
       "      <th>v2</th>\n",
       "      <th>Unnamed: 2</th>\n",
       "      <th>Unnamed: 3</th>\n",
       "      <th>Unnamed: 4</th>\n",
       "    </tr>\n",
       "  </thead>\n",
       "  <tbody>\n",
       "    <tr>\n",
       "      <th>0</th>\n",
       "      <td>ham</td>\n",
       "      <td>Go until jurong point, crazy.. Available only ...</td>\n",
       "      <td>NaN</td>\n",
       "      <td>NaN</td>\n",
       "      <td>NaN</td>\n",
       "    </tr>\n",
       "    <tr>\n",
       "      <th>1</th>\n",
       "      <td>ham</td>\n",
       "      <td>Ok lar... Joking wif u oni...</td>\n",
       "      <td>NaN</td>\n",
       "      <td>NaN</td>\n",
       "      <td>NaN</td>\n",
       "    </tr>\n",
       "    <tr>\n",
       "      <th>2</th>\n",
       "      <td>spam</td>\n",
       "      <td>Free entry in 2 a wkly comp to win FA Cup fina...</td>\n",
       "      <td>NaN</td>\n",
       "      <td>NaN</td>\n",
       "      <td>NaN</td>\n",
       "    </tr>\n",
       "    <tr>\n",
       "      <th>3</th>\n",
       "      <td>ham</td>\n",
       "      <td>U dun say so early hor... U c already then say...</td>\n",
       "      <td>NaN</td>\n",
       "      <td>NaN</td>\n",
       "      <td>NaN</td>\n",
       "    </tr>\n",
       "    <tr>\n",
       "      <th>4</th>\n",
       "      <td>ham</td>\n",
       "      <td>Nah I don't think he goes to usf, he lives aro...</td>\n",
       "      <td>NaN</td>\n",
       "      <td>NaN</td>\n",
       "      <td>NaN</td>\n",
       "    </tr>\n",
       "  </tbody>\n",
       "</table>\n",
       "</div>"
      ],
      "text/plain": [
       "     v1                                                 v2 Unnamed: 2  \\\n",
       "0   ham  Go until jurong point, crazy.. Available only ...        NaN   \n",
       "1   ham                      Ok lar... Joking wif u oni...        NaN   \n",
       "2  spam  Free entry in 2 a wkly comp to win FA Cup fina...        NaN   \n",
       "3   ham  U dun say so early hor... U c already then say...        NaN   \n",
       "4   ham  Nah I don't think he goes to usf, he lives aro...        NaN   \n",
       "\n",
       "  Unnamed: 3 Unnamed: 4  \n",
       "0        NaN        NaN  \n",
       "1        NaN        NaN  \n",
       "2        NaN        NaN  \n",
       "3        NaN        NaN  \n",
       "4        NaN        NaN  "
      ]
     },
     "execution_count": 2,
     "metadata": {},
     "output_type": "execute_result"
    }
   ],
   "source": [
    "data = pd.read_csv('/kaggle/input/sms-spam-collection-dataset/spam.csv',encoding='latin-1')\n",
    "data.head()"
   ]
  },
  {
   "cell_type": "code",
   "execution_count": 3,
   "id": "f047fd5c",
   "metadata": {
    "execution": {
     "iopub.execute_input": "2024-08-25T05:01:31.063486Z",
     "iopub.status.busy": "2024-08-25T05:01:31.063173Z",
     "iopub.status.idle": "2024-08-25T05:01:31.069945Z",
     "shell.execute_reply": "2024-08-25T05:01:31.069153Z"
    },
    "papermill": {
     "duration": 0.018595,
     "end_time": "2024-08-25T05:01:31.071823",
     "exception": false,
     "start_time": "2024-08-25T05:01:31.053228",
     "status": "completed"
    },
    "tags": []
   },
   "outputs": [
    {
     "data": {
      "text/plain": [
       "Index(['v1', 'v2', 'Unnamed: 2', 'Unnamed: 3', 'Unnamed: 4'], dtype='object')"
      ]
     },
     "execution_count": 3,
     "metadata": {},
     "output_type": "execute_result"
    }
   ],
   "source": [
    "data.columns"
   ]
  },
  {
   "cell_type": "code",
   "execution_count": 4,
   "id": "5af9836c",
   "metadata": {
    "execution": {
     "iopub.execute_input": "2024-08-25T05:01:31.090841Z",
     "iopub.status.busy": "2024-08-25T05:01:31.090571Z",
     "iopub.status.idle": "2024-08-25T05:01:31.104013Z",
     "shell.execute_reply": "2024-08-25T05:01:31.103142Z"
    },
    "papermill": {
     "duration": 0.025381,
     "end_time": "2024-08-25T05:01:31.106185",
     "exception": false,
     "start_time": "2024-08-25T05:01:31.080804",
     "status": "completed"
    },
    "tags": []
   },
   "outputs": [
    {
     "data": {
      "text/html": [
       "<div>\n",
       "<style scoped>\n",
       "    .dataframe tbody tr th:only-of-type {\n",
       "        vertical-align: middle;\n",
       "    }\n",
       "\n",
       "    .dataframe tbody tr th {\n",
       "        vertical-align: top;\n",
       "    }\n",
       "\n",
       "    .dataframe thead th {\n",
       "        text-align: right;\n",
       "    }\n",
       "</style>\n",
       "<table border=\"1\" class=\"dataframe\">\n",
       "  <thead>\n",
       "    <tr style=\"text-align: right;\">\n",
       "      <th></th>\n",
       "      <th>v1</th>\n",
       "      <th>v2</th>\n",
       "    </tr>\n",
       "  </thead>\n",
       "  <tbody>\n",
       "    <tr>\n",
       "      <th>0</th>\n",
       "      <td>ham</td>\n",
       "      <td>Go until jurong point, crazy.. Available only ...</td>\n",
       "    </tr>\n",
       "    <tr>\n",
       "      <th>1</th>\n",
       "      <td>ham</td>\n",
       "      <td>Ok lar... Joking wif u oni...</td>\n",
       "    </tr>\n",
       "    <tr>\n",
       "      <th>2</th>\n",
       "      <td>spam</td>\n",
       "      <td>Free entry in 2 a wkly comp to win FA Cup fina...</td>\n",
       "    </tr>\n",
       "    <tr>\n",
       "      <th>3</th>\n",
       "      <td>ham</td>\n",
       "      <td>U dun say so early hor... U c already then say...</td>\n",
       "    </tr>\n",
       "    <tr>\n",
       "      <th>4</th>\n",
       "      <td>ham</td>\n",
       "      <td>Nah I don't think he goes to usf, he lives aro...</td>\n",
       "    </tr>\n",
       "  </tbody>\n",
       "</table>\n",
       "</div>"
      ],
      "text/plain": [
       "     v1                                                 v2\n",
       "0   ham  Go until jurong point, crazy.. Available only ...\n",
       "1   ham                      Ok lar... Joking wif u oni...\n",
       "2  spam  Free entry in 2 a wkly comp to win FA Cup fina...\n",
       "3   ham  U dun say so early hor... U c already then say...\n",
       "4   ham  Nah I don't think he goes to usf, he lives aro..."
      ]
     },
     "execution_count": 4,
     "metadata": {},
     "output_type": "execute_result"
    }
   ],
   "source": [
    "data = data.drop(['Unnamed: 2', 'Unnamed: 3', 'Unnamed: 4'],axis=1)\n",
    "data.head()"
   ]
  },
  {
   "cell_type": "code",
   "execution_count": 5,
   "id": "3e783744",
   "metadata": {
    "execution": {
     "iopub.execute_input": "2024-08-25T05:01:31.125570Z",
     "iopub.status.busy": "2024-08-25T05:01:31.125309Z",
     "iopub.status.idle": "2024-08-25T05:01:31.129797Z",
     "shell.execute_reply": "2024-08-25T05:01:31.128953Z"
    },
    "papermill": {
     "duration": 0.016353,
     "end_time": "2024-08-25T05:01:31.131843",
     "exception": false,
     "start_time": "2024-08-25T05:01:31.115490",
     "status": "completed"
    },
    "tags": []
   },
   "outputs": [],
   "source": [
    "data.rename({'v1':'label','v2':'text'},axis=1,inplace=True)"
   ]
  },
  {
   "cell_type": "markdown",
   "id": "5a9a702c",
   "metadata": {
    "papermill": {
     "duration": 0.009334,
     "end_time": "2024-08-25T05:01:31.151440",
     "exception": false,
     "start_time": "2024-08-25T05:01:31.142106",
     "status": "completed"
    },
    "tags": []
   },
   "source": [
    "Visulaization of data"
   ]
  },
  {
   "cell_type": "code",
   "execution_count": 6,
   "id": "45e0b905",
   "metadata": {
    "execution": {
     "iopub.execute_input": "2024-08-25T05:01:31.171843Z",
     "iopub.status.busy": "2024-08-25T05:01:31.171509Z",
     "iopub.status.idle": "2024-08-25T05:01:31.476234Z",
     "shell.execute_reply": "2024-08-25T05:01:31.475249Z"
    },
    "papermill": {
     "duration": 0.317769,
     "end_time": "2024-08-25T05:01:31.478436",
     "exception": false,
     "start_time": "2024-08-25T05:01:31.160667",
     "status": "completed"
    },
    "tags": []
   },
   "outputs": [
    {
     "data": {
      "image/png": "[encoded data removed]",
      "text/plain": [
       "<Figure size 640x480 with 1 Axes>"
      ]
     },
     "metadata": {},
     "output_type": "display_data"
    }
   ],
   "source": [
    "plt.style.use('ggplot')\n",
    "data['label'].value_counts().plot(kind='bar')\n",
    "plt.title('How many Fake && True')\n",
    "plt.show()"
   ]
  },
  {
   "cell_type": "markdown",
   "id": "e0504a88",
   "metadata": {
    "papermill": {
     "duration": 0.009451,
     "end_time": "2024-08-25T05:01:31.497606",
     "exception": false,
     "start_time": "2024-08-25T05:01:31.488155",
     "status": "completed"
    },
    "tags": []
   },
   "source": [
    "# **Data Preprocessing**\n",
    "Text Cleaning: Remove special characters, punctuation, and numbers.\n",
    "Tokenization: Convert text into a sequence of tokens (words).\n",
    "Padding: Ensure all sequences have the same length by padding shorter sequences.\n",
    "Label Encoding: Convert labels (\"spam\" or \"ham\") to binary values."
   ]
  },
  {
   "cell_type": "code",
   "execution_count": 7,
   "id": "d37a8088",
   "metadata": {
    "execution": {
     "iopub.execute_input": "2024-08-25T05:01:31.524187Z",
     "iopub.status.busy": "2024-08-25T05:01:31.523803Z",
     "iopub.status.idle": "2024-08-25T05:01:31.701091Z",
     "shell.execute_reply": "2024-08-25T05:01:31.700122Z"
    },
    "papermill": {
     "duration": 0.19325,
     "end_time": "2024-08-25T05:01:31.703526",
     "exception": false,
     "start_time": "2024-08-25T05:01:31.510276",
     "status": "completed"
    },
    "tags": []
   },
   "outputs": [],
   "source": [
    "from sklearn.preprocessing import LabelEncoder\n",
    "encoder = LabelEncoder()"
   ]
  },
  {
   "cell_type": "code",
   "execution_count": 8,
   "id": "cf94d3d5",
   "metadata": {
    "execution": {
     "iopub.execute_input": "2024-08-25T05:01:31.725248Z",
     "iopub.status.busy": "2024-08-25T05:01:31.724910Z",
     "iopub.status.idle": "2024-08-25T05:01:31.732929Z",
     "shell.execute_reply": "2024-08-25T05:01:31.732035Z"
    },
    "papermill": {
     "duration": 0.020918,
     "end_time": "2024-08-25T05:01:31.734903",
     "exception": false,
     "start_time": "2024-08-25T05:01:31.713985",
     "status": "completed"
    },
    "tags": []
   },
   "outputs": [
    {
     "data": {
      "text/plain": [
       "array([0, 0, 1, ..., 0, 0, 0])"
      ]
     },
     "execution_count": 8,
     "metadata": {},
     "output_type": "execute_result"
    }
   ],
   "source": [
    "# Example\n",
    "a = ['ham','spam','netural']\n",
    "encoder.fit_transform(data['label'])"
   ]
  },
  {
   "cell_type": "code",
   "execution_count": 9,
   "id": "fc89ddf6",
   "metadata": {
    "execution": {
     "iopub.execute_input": "2024-08-25T05:01:31.755164Z",
     "iopub.status.busy": "2024-08-25T05:01:31.754878Z",
     "iopub.status.idle": "2024-08-25T05:01:31.776400Z",
     "shell.execute_reply": "2024-08-25T05:01:31.759811Z"
    },
    "papermill": {
     "duration": 0.034004,
     "end_time": "2024-08-25T05:01:31.778540",
     "exception": false,
     "start_time": "2024-08-25T05:01:31.744536",
     "status": "completed"
    },
    "tags": []
   },
   "outputs": [],
   "source": [
    "y = encoder.fit_transform(data['label'])\n",
    "y = y.reshape(-1,1)"
   ]
  },
  {
   "cell_type": "code",
   "execution_count": 10,
   "id": "246363eb",
   "metadata": {
    "execution": {
     "iopub.execute_input": "2024-08-25T05:01:31.803027Z",
     "iopub.status.busy": "2024-08-25T05:01:31.802265Z",
     "iopub.status.idle": "2024-08-25T05:01:45.517431Z",
     "shell.execute_reply": "2024-08-25T05:01:45.516392Z"
    },
    "papermill": {
     "duration": 13.729953,
     "end_time": "2024-08-25T05:01:45.519941",
     "exception": false,
     "start_time": "2024-08-25T05:01:31.789988",
     "status": "completed"
    },
    "tags": []
   },
   "outputs": [],
   "source": [
    "import tensorflow as tf\n",
    "from tensorflow.keras.preprocessing.text import Tokenizer\n",
    "from tensorflow.keras.preprocessing.sequence import pad_sequences\n",
    "from tensorflow.keras.models import Sequential\n",
    "from tensorflow.keras.layers import LSTM,Conv2D,Dense,Embedding,Flatten,Dropout"
   ]
  },
  {
   "cell_type": "code",
   "execution_count": 11,
   "id": "db27fba7",
   "metadata": {
    "execution": {
     "iopub.execute_input": "2024-08-25T05:01:45.541417Z",
     "iopub.status.busy": "2024-08-25T05:01:45.540854Z",
     "iopub.status.idle": "2024-08-25T05:01:45.782397Z",
     "shell.execute_reply": "2024-08-25T05:01:45.781484Z"
    },
    "papermill": {
     "duration": 0.254677,
     "end_time": "2024-08-25T05:01:45.784614",
     "exception": false,
     "start_time": "2024-08-25T05:01:45.529937",
     "status": "completed"
    },
    "tags": []
   },
   "outputs": [],
   "source": [
    "tokenizer = Tokenizer()\n",
    "tokenizer.fit_on_texts(data['text'])\n",
    "sequences = tokenizer.texts_to_sequences(data['text'])"
   ]
  },
  {
   "cell_type": "code",
   "execution_count": 12,
   "id": "52c4ae14",
   "metadata": {
    "execution": {
     "iopub.execute_input": "2024-08-25T05:01:45.805782Z",
     "iopub.status.busy": "2024-08-25T05:01:45.805246Z",
     "iopub.status.idle": "2024-08-25T05:01:45.810630Z",
     "shell.execute_reply": "2024-08-25T05:01:45.809722Z"
    },
    "papermill": {
     "duration": 0.018249,
     "end_time": "2024-08-25T05:01:45.812724",
     "exception": false,
     "start_time": "2024-08-25T05:01:45.794475",
     "status": "completed"
    },
    "tags": []
   },
   "outputs": [
    {
     "name": "stdout",
     "output_type": "stream",
     "text": [
      "189\n"
     ]
    }
   ],
   "source": [
    "max_len = max(len(seq) for seq in sequences)\n",
    "print(max_len)"
   ]
  },
  {
   "cell_type": "code",
   "execution_count": 13,
   "id": "56509bee",
   "metadata": {
    "execution": {
     "iopub.execute_input": "2024-08-25T05:01:45.833060Z",
     "iopub.status.busy": "2024-08-25T05:01:45.832744Z",
     "iopub.status.idle": "2024-08-25T05:01:45.861899Z",
     "shell.execute_reply": "2024-08-25T05:01:45.861189Z"
    },
    "papermill": {
     "duration": 0.041524,
     "end_time": "2024-08-25T05:01:45.863844",
     "exception": false,
     "start_time": "2024-08-25T05:01:45.822320",
     "status": "completed"
    },
    "tags": []
   },
   "outputs": [],
   "source": [
    "sequences_data = pad_sequences(sequences, maxlen=max_len,padding='pre')\n",
    "X = sequences_data"
   ]
  },
  {
   "cell_type": "code",
   "execution_count": 14,
   "id": "473fafbe",
   "metadata": {
    "execution": {
     "iopub.execute_input": "2024-08-25T05:01:45.884353Z",
     "iopub.status.busy": "2024-08-25T05:01:45.884069Z",
     "iopub.status.idle": "2024-08-25T05:01:45.992939Z",
     "shell.execute_reply": "2024-08-25T05:01:45.992188Z"
    },
    "papermill": {
     "duration": 0.121522,
     "end_time": "2024-08-25T05:01:45.995026",
     "exception": false,
     "start_time": "2024-08-25T05:01:45.873504",
     "status": "completed"
    },
    "tags": []
   },
   "outputs": [],
   "source": [
    "from sklearn.model_selection import train_test_split\n",
    "X_train, X_test, y_train, y_test = train_test_split(X, y, test_size=0.33, random_state=42)"
   ]
  },
  {
   "cell_type": "code",
   "execution_count": 15,
   "id": "64df30c9",
   "metadata": {
    "execution": {
     "iopub.execute_input": "2024-08-25T05:01:46.016039Z",
     "iopub.status.busy": "2024-08-25T05:01:46.015721Z",
     "iopub.status.idle": "2024-08-25T05:01:46.019649Z",
     "shell.execute_reply": "2024-08-25T05:01:46.018806Z"
    },
    "papermill": {
     "duration": 0.016482,
     "end_time": "2024-08-25T05:01:46.021548",
     "exception": false,
     "start_time": "2024-08-25T05:01:46.005066",
     "status": "completed"
    },
    "tags": []
   },
   "outputs": [],
   "source": [
    "total_words = 1000"
   ]
  },
  {
   "cell_type": "markdown",
   "id": "006389a7",
   "metadata": {
    "papermill": {
     "duration": 0.009241,
     "end_time": "2024-08-25T05:01:46.040376",
     "exception": false,
     "start_time": "2024-08-25T05:01:46.031135",
     "status": "completed"
    },
    "tags": []
   },
   "source": [
    "# **Model Architecture**\n",
    "The LSTM model consists of the following layers:\n",
    "\n",
    "Embedding Layer: Converts words into dense vectors.\n",
    "LSTM Layer: Captures sequential dependencies in the text.\n",
    "Dense Layer: Fully connected layer with ReLU activation.\n",
    "Output Layer: Sigmoid activation for binary classification."
   ]
  },
  {
   "cell_type": "code",
   "execution_count": 16,
   "id": "21c4eb86",
   "metadata": {
    "execution": {
     "iopub.execute_input": "2024-08-25T05:01:46.060428Z",
     "iopub.status.busy": "2024-08-25T05:01:46.060165Z",
     "iopub.status.idle": "2024-08-25T05:01:47.594251Z",
     "shell.execute_reply": "2024-08-25T05:01:47.593417Z"
    },
    "papermill": {
     "duration": 1.546742,
     "end_time": "2024-08-25T05:01:47.596545",
     "exception": false,
     "start_time": "2024-08-25T05:01:46.049803",
     "status": "completed"
    },
    "tags": []
   },
   "outputs": [],
   "source": [
    "model = Sequential()\n",
    "model.add(Embedding(input_dim=total_words, output_dim=100, input_length=max_len - 1))\n",
    "model.add(LSTM(150, return_sequences=True))\n",
    "model.add(Dropout(0.4))\n",
    "model.add(LSTM(150))  \n",
    "model.add(Dropout(0.4))\n",
    "model.add(Dense(1, activation='sigmoid'))\n",
    "model.build(input_shape=(None,max_len-1))\n"
   ]
  },
  {
   "cell_type": "markdown",
   "id": "3a3c5b10",
   "metadata": {
    "papermill": {
     "duration": 0.00959,
     "end_time": "2024-08-25T05:01:47.616090",
     "exception": false,
     "start_time": "2024-08-25T05:01:47.606500",
     "status": "completed"
    },
    "tags": []
   },
   "source": [
    "# **Training**\n",
    "1. Loss Function: Binary Crossentropy.\n",
    "2. Optimizer: Adam.\n",
    "3. Metrics: Accuracy."
   ]
  },
  {
   "cell_type": "code",
   "execution_count": 17,
   "id": "22cd9776",
   "metadata": {
    "execution": {
     "iopub.execute_input": "2024-08-25T05:01:47.636712Z",
     "iopub.status.busy": "2024-08-25T05:01:47.636367Z",
     "iopub.status.idle": "2024-08-25T05:01:47.664447Z",
     "shell.execute_reply": "2024-08-25T05:01:47.663631Z"
    },
    "papermill": {
     "duration": 0.040343,
     "end_time": "2024-08-25T05:01:47.666165",
     "exception": false,
     "start_time": "2024-08-25T05:01:47.625822",
     "status": "completed"
    },
    "tags": []
   },
   "outputs": [
    {
     "data": {
      "text/html": [
       "<pre style=\"white-space:pre;overflow-x:auto;line-height:normal;font-family:Menlo,'DejaVu Sans Mono',consolas,'Courier New',monospace\"><span style=\"font-weight: bold\">Model: \"sequential\"</span>\n",
       "</pre>\n"
      ],
      "text/plain": [
       "\u001b[1mModel: \"sequential\"\u001b[0m\n"
      ]
     },
     "metadata": {},
     "output_type": "display_data"
    },
    {
     "data": {
      "text/html": [
       "<pre style=\"white-space:pre;overflow-x:auto;line-height:normal;font-family:Menlo,'DejaVu Sans Mono',consolas,'Courier New',monospace\">┏━━━━━━━━━━━━━━━━━━━━━━━━━━━━━━━━━┳━━━━━━━━━━━━━━━━━━━━━━━━┳━━━━━━━━━━━━━━━┓\n",
       "┃<span style=\"font-weight: bold\"> Layer (type)                    </span>┃<span style=\"font-weight: bold\"> Output Shape           </span>┃<span style=\"font-weight: bold\">       Param # </span>┃\n",
       "┡━━━━━━━━━━━━━━━━━━━━━━━━━━━━━━━━━╇━━━━━━━━━━━━━━━━━━━━━━━━╇━━━━━━━━━━━━━━━┩\n",
       "│ embedding (<span style=\"color: #0087ff; text-decoration-color: #0087ff\">Embedding</span>)           │ (<span style=\"color: #00d7ff; text-decoration-color: #00d7ff\">None</span>, <span style=\"color: #00af00; text-decoration-color: #00af00\">188</span>, <span style=\"color: #00af00; text-decoration-color: #00af00\">100</span>)       │       <span style=\"color: #00af00; text-decoration-color: #00af00\">100,000</span> │\n",
       "├─────────────────────────────────┼────────────────────────┼───────────────┤\n",
       "│ lstm (<span style=\"color: #0087ff; text-decoration-color: #0087ff\">LSTM</span>)                     │ (<span style=\"color: #00d7ff; text-decoration-color: #00d7ff\">None</span>, <span style=\"color: #00af00; text-decoration-color: #00af00\">188</span>, <span style=\"color: #00af00; text-decoration-color: #00af00\">150</span>)       │       <span style=\"color: #00af00; text-decoration-color: #00af00\">150,600</span> │\n",
       "├─────────────────────────────────┼────────────────────────┼───────────────┤\n",
       "│ dropout (<span style=\"color: #0087ff; text-decoration-color: #0087ff\">Dropout</span>)               │ (<span style=\"color: #00d7ff; text-decoration-color: #00d7ff\">None</span>, <span style=\"color: #00af00; text-decoration-color: #00af00\">188</span>, <span style=\"color: #00af00; text-decoration-color: #00af00\">150</span>)       │             <span style=\"color: #00af00; text-decoration-color: #00af00\">0</span> │\n",
       "├─────────────────────────────────┼────────────────────────┼───────────────┤\n",
       "│ lstm_1 (<span style=\"color: #0087ff; text-decoration-color: #0087ff\">LSTM</span>)                   │ (<span style=\"color: #00d7ff; text-decoration-color: #00d7ff\">None</span>, <span style=\"color: #00af00; text-decoration-color: #00af00\">150</span>)            │       <span style=\"color: #00af00; text-decoration-color: #00af00\">180,600</span> │\n",
       "├─────────────────────────────────┼────────────────────────┼───────────────┤\n",
       "│ dropout_1 (<span style=\"color: #0087ff; text-decoration-color: #0087ff\">Dropout</span>)             │ (<span style=\"color: #00d7ff; text-decoration-color: #00d7ff\">None</span>, <span style=\"color: #00af00; text-decoration-color: #00af00\">150</span>)            │             <span style=\"color: #00af00; text-decoration-color: #00af00\">0</span> │\n",
       "├─────────────────────────────────┼────────────────────────┼───────────────┤\n",
       "│ dense (<span style=\"color: #0087ff; text-decoration-color: #0087ff\">Dense</span>)                   │ (<span style=\"color: #00d7ff; text-decoration-color: #00d7ff\">None</span>, <span style=\"color: #00af00; text-decoration-color: #00af00\">1</span>)              │           <span style=\"color: #00af00; text-decoration-color: #00af00\">151</span> │\n",
       "└─────────────────────────────────┴────────────────────────┴───────────────┘\n",
       "</pre>\n"
      ],
      "text/plain": [
       "┏━━━━━━━━━━━━━━━━━━━━━━━━━━━━━━━━━┳━━━━━━━━━━━━━━━━━━━━━━━━┳━━━━━━━━━━━━━━━┓\n",
       "┃\u001b[1m \u001b[0m\u001b[1mLayer (type)                   \u001b[0m\u001b[1m \u001b[0m┃\u001b[1m \u001b[0m\u001b[1mOutput Shape          \u001b[0m\u001b[1m \u001b[0m┃\u001b[1m \u001b[0m\u001b[1m      Param #\u001b[0m\u001b[1m \u001b[0m┃\n",
       "┡━━━━━━━━━━━━━━━━━━━━━━━━━━━━━━━━━╇━━━━━━━━━━━━━━━━━━━━━━━━╇━━━━━━━━━━━━━━━┩\n",
       "│ embedding (\u001b[38;5;33mEmbedding\u001b[0m)           │ (\u001b[38;5;45mNone\u001b[0m, \u001b[38;5;34m188\u001b[0m, \u001b[38;5;34m100\u001b[0m)       │       \u001b[38;5;34m100,000\u001b[0m │\n",
       "├─────────────────────────────────┼────────────────────────┼───────────────┤\n",
       "│ lstm (\u001b[38;5;33mLSTM\u001b[0m)                     │ (\u001b[38;5;45mNone\u001b[0m, \u001b[38;5;34m188\u001b[0m, \u001b[38;5;34m150\u001b[0m)       │       \u001b[38;5;34m150,600\u001b[0m │\n",
       "├─────────────────────────────────┼────────────────────────┼───────────────┤\n",
       "│ dropout (\u001b[38;5;33mDropout\u001b[0m)               │ (\u001b[38;5;45mNone\u001b[0m, \u001b[38;5;34m188\u001b[0m, \u001b[38;5;34m150\u001b[0m)       │             \u001b[38;5;34m0\u001b[0m │\n",
       "├─────────────────────────────────┼────────────────────────┼───────────────┤\n",
       "│ lstm_1 (\u001b[38;5;33mLSTM\u001b[0m)                   │ (\u001b[38;5;45mNone\u001b[0m, \u001b[38;5;34m150\u001b[0m)            │       \u001b[38;5;34m180,600\u001b[0m │\n",
       "├─────────────────────────────────┼────────────────────────┼───────────────┤\n",
       "│ dropout_1 (\u001b[38;5;33mDropout\u001b[0m)             │ (\u001b[38;5;45mNone\u001b[0m, \u001b[38;5;34m150\u001b[0m)            │             \u001b[38;5;34m0\u001b[0m │\n",
       "├─────────────────────────────────┼────────────────────────┼───────────────┤\n",
       "│ dense (\u001b[38;5;33mDense\u001b[0m)                   │ (\u001b[38;5;45mNone\u001b[0m, \u001b[38;5;34m1\u001b[0m)              │           \u001b[38;5;34m151\u001b[0m │\n",
       "└─────────────────────────────────┴────────────────────────┴───────────────┘\n"
      ]
     },
     "metadata": {},
     "output_type": "display_data"
    },
    {
     "data": {
      "text/html": [
       "<pre style=\"white-space:pre;overflow-x:auto;line-height:normal;font-family:Menlo,'DejaVu Sans Mono',consolas,'Courier New',monospace\"><span style=\"font-weight: bold\"> Total params: </span><span style=\"color: #00af00; text-decoration-color: #00af00\">431,351</span> (1.65 MB)\n",
       "</pre>\n"
      ],
      "text/plain": [
       "\u001b[1m Total params: \u001b[0m\u001b[38;5;34m431,351\u001b[0m (1.65 MB)\n"
      ]
     },
     "metadata": {},
     "output_type": "display_data"
    },
    {
     "data": {
      "text/html": [
       "<pre style=\"white-space:pre;overflow-x:auto;line-height:normal;font-family:Menlo,'DejaVu Sans Mono',consolas,'Courier New',monospace\"><span style=\"font-weight: bold\"> Trainable params: </span><span style=\"color: #00af00; text-decoration-color: #00af00\">431,351</span> (1.65 MB)\n",
       "</pre>\n"
      ],
      "text/plain": [
       "\u001b[1m Trainable params: \u001b[0m\u001b[38;5;34m431,351\u001b[0m (1.65 MB)\n"
      ]
     },
     "metadata": {},
     "output_type": "display_data"
    },
    {
     "data": {
      "text/html": [
       "<pre style=\"white-space:pre;overflow-x:auto;line-height:normal;font-family:Menlo,'DejaVu Sans Mono',consolas,'Courier New',monospace\"><span style=\"font-weight: bold\"> Non-trainable params: </span><span style=\"color: #00af00; text-decoration-color: #00af00\">0</span> (0.00 B)\n",
       "</pre>\n"
      ],
      "text/plain": [
       "\u001b[1m Non-trainable params: \u001b[0m\u001b[38;5;34m0\u001b[0m (0.00 B)\n"
      ]
     },
     "metadata": {},
     "output_type": "display_data"
    }
   ],
   "source": [
    "model.compile(loss='binary_crossentropy',optimizer='adam',metrics=['Accuracy'])\n",
    "model.summary()"
   ]
  },
  {
   "cell_type": "code",
   "execution_count": 18,
   "id": "535bc684",
   "metadata": {
    "execution": {
     "iopub.execute_input": "2024-08-25T05:01:47.688732Z",
     "iopub.status.busy": "2024-08-25T05:01:47.688422Z",
     "iopub.status.idle": "2024-08-25T05:02:15.365940Z",
     "shell.execute_reply": "2024-08-25T05:02:15.365146Z"
    },
    "papermill": {
     "duration": 27.691369,
     "end_time": "2024-08-25T05:02:15.368101",
     "exception": false,
     "start_time": "2024-08-25T05:01:47.676732",
     "status": "completed"
    },
    "tags": []
   },
   "outputs": [
    {
     "name": "stdout",
     "output_type": "stream",
     "text": [
      "Epoch 1/10\n",
      "\u001b[1m117/117\u001b[0m \u001b[32m━━━━━━━━━━━━━━━━━━━━\u001b[0m\u001b[37m\u001b[0m \u001b[1m7s\u001b[0m 23ms/step - Accuracy: 0.9057 - loss: 0.2822 - val_Accuracy: 0.9777 - val_loss: 0.0826\n",
      "Epoch 2/10\n",
      "\u001b[1m117/117\u001b[0m \u001b[32m━━━━━━━━━━━━━━━━━━━━\u001b[0m\u001b[37m\u001b[0m \u001b[1m2s\u001b[0m 19ms/step - Accuracy: 0.9917 - loss: 0.0353 - val_Accuracy: 0.9831 - val_loss: 0.0670\n",
      "Epoch 3/10\n",
      "\u001b[1m117/117\u001b[0m \u001b[32m━━━━━━━━━━━━━━━━━━━━\u001b[0m\u001b[37m\u001b[0m \u001b[1m2s\u001b[0m 19ms/step - Accuracy: 0.9966 - loss: 0.0169 - val_Accuracy: 0.9815 - val_loss: 0.0715\n",
      "Epoch 4/10\n",
      "\u001b[1m117/117\u001b[0m \u001b[32m━━━━━━━━━━━━━━━━━━━━\u001b[0m\u001b[37m\u001b[0m \u001b[1m2s\u001b[0m 19ms/step - Accuracy: 0.9982 - loss: 0.0097 - val_Accuracy: 0.9831 - val_loss: 0.1003\n",
      "Epoch 5/10\n",
      "\u001b[1m117/117\u001b[0m \u001b[32m━━━━━━━━━━━━━━━━━━━━\u001b[0m\u001b[37m\u001b[0m \u001b[1m2s\u001b[0m 19ms/step - Accuracy: 0.9985 - loss: 0.0094 - val_Accuracy: 0.9821 - val_loss: 0.0835\n",
      "Epoch 6/10\n",
      "\u001b[1m117/117\u001b[0m \u001b[32m━━━━━━━━━━━━━━━━━━━━\u001b[0m\u001b[37m\u001b[0m \u001b[1m2s\u001b[0m 20ms/step - Accuracy: 0.9989 - loss: 0.0048 - val_Accuracy: 0.9793 - val_loss: 0.1134\n",
      "Epoch 7/10\n",
      "\u001b[1m117/117\u001b[0m \u001b[32m━━━━━━━━━━━━━━━━━━━━\u001b[0m\u001b[37m\u001b[0m \u001b[1m2s\u001b[0m 19ms/step - Accuracy: 0.9985 - loss: 0.0079 - val_Accuracy: 0.9821 - val_loss: 0.1113\n",
      "Epoch 8/10\n",
      "\u001b[1m117/117\u001b[0m \u001b[32m━━━━━━━━━━━━━━━━━━━━\u001b[0m\u001b[37m\u001b[0m \u001b[1m2s\u001b[0m 19ms/step - Accuracy: 0.9963 - loss: 0.0101 - val_Accuracy: 0.9804 - val_loss: 0.0884\n",
      "Epoch 9/10\n",
      "\u001b[1m117/117\u001b[0m \u001b[32m━━━━━━━━━━━━━━━━━━━━\u001b[0m\u001b[37m\u001b[0m \u001b[1m2s\u001b[0m 19ms/step - Accuracy: 0.9979 - loss: 0.0121 - val_Accuracy: 0.9804 - val_loss: 0.0994\n",
      "Epoch 10/10\n",
      "\u001b[1m117/117\u001b[0m \u001b[32m━━━━━━━━━━━━━━━━━━━━\u001b[0m\u001b[37m\u001b[0m \u001b[1m2s\u001b[0m 19ms/step - Accuracy: 0.9997 - loss: 0.0021 - val_Accuracy: 0.9821 - val_loss: 0.1044\n"
     ]
    }
   ],
   "source": [
    "history = model.fit(X_train,y_train,epochs=10,batch_size=32,validation_split=0.1,validation_data=(X_test,y_test))"
   ]
  },
  {
   "cell_type": "code",
   "execution_count": 19,
   "id": "e9fd9e12",
   "metadata": {
    "execution": {
     "iopub.execute_input": "2024-08-25T05:02:15.443839Z",
     "iopub.status.busy": "2024-08-25T05:02:15.443453Z",
     "iopub.status.idle": "2024-08-25T05:02:15.771924Z",
     "shell.execute_reply": "2024-08-25T05:02:15.771025Z"
    },
    "papermill": {
     "duration": 0.368177,
     "end_time": "2024-08-25T05:02:15.774154",
     "exception": false,
     "start_time": "2024-08-25T05:02:15.405977",
     "status": "completed"
    },
    "tags": []
   },
   "outputs": [
    {
     "data": {
      "text/plain": [
       "<matplotlib.legend.Legend at 0x7a1669faa8c0>"
      ]
     },
     "execution_count": 19,
     "metadata": {},
     "output_type": "execute_result"
    },
    {
     "data": {
      "image/png": "[encoded data removed]",
      "text/plain": [
       "<Figure size 640x480 with 1 Axes>"
      ]
     },
     "metadata": {},
     "output_type": "display_data"
    }
   ],
   "source": [
    "plt.plot(model.history.history['Accuracy'])\n",
    "plt.plot(model.history.history['val_Accuracy'])\n",
    "plt.title('model accuracy')\n",
    "plt.ylabel('accuracy')\n",
    "plt.xlabel('epoch')\n",
    "plt.legend(['train','test'],loc='upper left')"
   ]
  },
  {
   "cell_type": "code",
   "execution_count": 20,
   "id": "93623c6e",
   "metadata": {
    "execution": {
     "iopub.execute_input": "2024-08-25T05:02:15.848930Z",
     "iopub.status.busy": "2024-08-25T05:02:15.848588Z",
     "iopub.status.idle": "2024-08-25T05:02:16.406970Z",
     "shell.execute_reply": "2024-08-25T05:02:16.406017Z"
    },
    "papermill": {
     "duration": 0.598575,
     "end_time": "2024-08-25T05:02:16.409382",
     "exception": false,
     "start_time": "2024-08-25T05:02:15.810807",
     "status": "completed"
    },
    "tags": []
   },
   "outputs": [
    {
     "data": {
      "text/plain": [
       "<matplotlib.legend.Legend at 0x7a1680eacbb0>"
      ]
     },
     "execution_count": 20,
     "metadata": {},
     "output_type": "execute_result"
    },
    {
     "data": {
      "image/png": "[encoded data removed]",
      "text/plain": [
       "<Figure size 640x480 with 1 Axes>"
      ]
     },
     "metadata": {},
     "output_type": "display_data"
    }
   ],
   "source": [
    "plt.plot(model.history.history['loss'])\n",
    "plt.plot(model.history.history['val_loss'])\n",
    "plt.title('model loss')\n",
    "plt.ylabel('loss')\n",
    "plt.xlabel('epoch')\n",
    "plt.legend(['train','test'],loc='upper left')\n",
    "#"
   ]
  },
  {
   "cell_type": "code",
   "execution_count": 21,
   "id": "a680fb82",
   "metadata": {
    "execution": {
     "iopub.execute_input": "2024-08-25T05:02:16.486667Z",
     "iopub.status.busy": "2024-08-25T05:02:16.486328Z",
     "iopub.status.idle": "2024-08-25T05:02:17.254696Z",
     "shell.execute_reply": "2024-08-25T05:02:17.253812Z"
    },
    "papermill": {
     "duration": 0.808915,
     "end_time": "2024-08-25T05:02:17.256747",
     "exception": false,
     "start_time": "2024-08-25T05:02:16.447832",
     "status": "completed"
    },
    "tags": []
   },
   "outputs": [
    {
     "name": "stdout",
     "output_type": "stream",
     "text": [
      "\u001b[1m58/58\u001b[0m \u001b[32m━━━━━━━━━━━━━━━━━━━━\u001b[0m\u001b[37m\u001b[0m \u001b[1m1s\u001b[0m 9ms/step\n"
     ]
    }
   ],
   "source": [
    "y_pred = model.predict(X_test)"
   ]
  },
  {
   "cell_type": "code",
   "execution_count": 22,
   "id": "eeaf2e62",
   "metadata": {
    "execution": {
     "iopub.execute_input": "2024-08-25T05:02:17.337040Z",
     "iopub.status.busy": "2024-08-25T05:02:17.336178Z",
     "iopub.status.idle": "2024-08-25T05:02:17.798731Z",
     "shell.execute_reply": "2024-08-25T05:02:17.797795Z"
    },
    "papermill": {
     "duration": 0.504769,
     "end_time": "2024-08-25T05:02:17.800966",
     "exception": false,
     "start_time": "2024-08-25T05:02:17.296197",
     "status": "completed"
    },
    "tags": []
   },
   "outputs": [
    {
     "name": "stdout",
     "output_type": "stream",
     "text": [
      "\u001b[1m58/58\u001b[0m \u001b[32m━━━━━━━━━━━━━━━━━━━━\u001b[0m\u001b[37m\u001b[0m \u001b[1m0s\u001b[0m 7ms/step - Accuracy: 0.9806 - loss: 0.1149\n"
     ]
    }
   ],
   "source": [
    "loss,accuracy = model.evaluate(X_test,y_test)"
   ]
  },
  {
   "cell_type": "code",
   "execution_count": 23,
   "id": "b7d1a485",
   "metadata": {
    "execution": {
     "iopub.execute_input": "2024-08-25T05:02:17.882734Z",
     "iopub.status.busy": "2024-08-25T05:02:17.882371Z",
     "iopub.status.idle": "2024-08-25T05:02:17.898412Z",
     "shell.execute_reply": "2024-08-25T05:02:17.897241Z"
    },
    "papermill": {
     "duration": 0.058905,
     "end_time": "2024-08-25T05:02:17.900586",
     "exception": false,
     "start_time": "2024-08-25T05:02:17.841681",
     "status": "completed"
    },
    "tags": []
   },
   "outputs": [
    {
     "name": "stdout",
     "output_type": "stream",
     "text": [
      "              precision    recall  f1-score   support\n",
      "\n",
      "         0.0       1.00      0.98      0.99      1608\n",
      "         1.0       0.89      0.97      0.93       231\n",
      "\n",
      "    accuracy                           0.98      1839\n",
      "   macro avg       0.94      0.98      0.96      1839\n",
      "weighted avg       0.98      0.98      0.98      1839\n",
      "\n"
     ]
    }
   ],
   "source": [
    "from sklearn.metrics import classification_report,confusion_matrix\n",
    "print(classification_report(y_pred.round(),y_test))"
   ]
  },
  {
   "cell_type": "code",
   "execution_count": 24,
   "id": "d77a8630",
   "metadata": {
    "execution": {
     "iopub.execute_input": "2024-08-25T05:02:17.979919Z",
     "iopub.status.busy": "2024-08-25T05:02:17.979601Z",
     "iopub.status.idle": "2024-08-25T05:02:17.986662Z",
     "shell.execute_reply": "2024-08-25T05:02:17.985791Z"
    },
    "papermill": {
     "duration": 0.04895,
     "end_time": "2024-08-25T05:02:17.989029",
     "exception": false,
     "start_time": "2024-08-25T05:02:17.940079",
     "status": "completed"
    },
    "tags": []
   },
   "outputs": [
    {
     "name": "stdout",
     "output_type": "stream",
     "text": [
      "[[1581    6]\n",
      " [  27  225]]\n"
     ]
    }
   ],
   "source": [
    "print(confusion_matrix(y_test,y_pred.round()))"
   ]
  },
  {
   "cell_type": "markdown",
   "id": "0d172b71",
   "metadata": {
    "papermill": {
     "duration": 0.038745,
     "end_time": "2024-08-25T05:02:18.067480",
     "exception": false,
     "start_time": "2024-08-25T05:02:18.028735",
     "status": "completed"
    },
    "tags": []
   },
   "source": [
    "### Here's a breakdown of the confusion matrix:\n",
    "[[1581    6]\n",
    " [  29  223]]\n",
    "\n",
    "True Positives (TP): 1575\n",
    "\n",
    "The model correctly predicted 1575 instances as \"ham\" (not spam).\n",
    "False Positives (FP):6\n",
    "\n",
    "The model incorrectly predicted 12 instances as \"spam\" when they were actually \"ham\".\n",
    "False Negatives (FN): 29\n",
    "\n",
    "The model incorrectly predicted 20 instances as \"ham\" when they were actually \"spam\".\n",
    "True Negatives (TN): 223\n",
    "\n",
    "The model correctly predicted 232 instances as \"spam\"."
   ]
  },
  {
   "cell_type": "code",
   "execution_count": 25,
   "id": "51c161fb",
   "metadata": {
    "execution": {
     "iopub.execute_input": "2024-08-25T05:02:18.148896Z",
     "iopub.status.busy": "2024-08-25T05:02:18.148502Z",
     "iopub.status.idle": "2024-08-25T05:02:18.153349Z",
     "shell.execute_reply": "2024-08-25T05:02:18.152377Z"
    },
    "papermill": {
     "duration": 0.048547,
     "end_time": "2024-08-25T05:02:18.155592",
     "exception": false,
     "start_time": "2024-08-25T05:02:18.107045",
     "status": "completed"
    },
    "tags": []
   },
   "outputs": [],
   "source": [
    "# model.save('model.h5')"
   ]
  },
  {
   "cell_type": "code",
   "execution_count": 26,
   "id": "378d9a94",
   "metadata": {
    "execution": {
     "iopub.execute_input": "2024-08-25T05:02:18.238999Z",
     "iopub.status.busy": "2024-08-25T05:02:18.238533Z",
     "iopub.status.idle": "2024-08-25T05:02:18.244902Z",
     "shell.execute_reply": "2024-08-25T05:02:18.243993Z"
    },
    "papermill": {
     "duration": 0.050078,
     "end_time": "2024-08-25T05:02:18.246953",
     "exception": false,
     "start_time": "2024-08-25T05:02:18.196875",
     "status": "completed"
    },
    "tags": []
   },
   "outputs": [],
   "source": [
    "def predict(text):\n",
    "    text = text.lower()\n",
    "    tokenize = tokenizer.texts_to_sequences([text])[0]\n",
    "    token_list = pad_sequences([tokenize],maxlen=max_len-1,padding='pre')\n",
    "    predicted = model.predict(token_list,verbose=0)\n",
    "    print(predicted)\n",
    "    predicted = np.argmax(predicted,axis=1)\n",
    "    if  predicted > 0.5:\n",
    "        print('Spam')\n",
    "    else:\n",
    "        print('ham')\n",
    "    return predicted"
   ]
  },
  {
   "cell_type": "markdown",
   "id": "a9b59d36",
   "metadata": {
    "papermill": {
     "duration": 0.039355,
     "end_time": "2024-08-25T05:02:18.326894",
     "exception": false,
     "start_time": "2024-08-25T05:02:18.287539",
     "status": "completed"
    },
    "tags": []
   },
   "source": [
    "# **Conclusion**\n",
    "The LSTM-based model successfully classifies text messages as spam or ham with high accuracy. This approach can be extended to other text classification tasks with minor adjustments."
   ]
  },
  {
   "cell_type": "code",
   "execution_count": 27,
   "id": "75504391",
   "metadata": {
    "execution": {
     "iopub.execute_input": "2024-08-25T05:02:18.407085Z",
     "iopub.status.busy": "2024-08-25T05:02:18.406383Z",
     "iopub.status.idle": "2024-08-25T05:02:18.671203Z",
     "shell.execute_reply": "2024-08-25T05:02:18.670059Z"
    },
    "papermill": {
     "duration": 0.307796,
     "end_time": "2024-08-25T05:02:18.673579",
     "exception": false,
     "start_time": "2024-08-25T05:02:18.365783",
     "status": "completed"
    },
    "tags": []
   },
   "outputs": [
    {
     "name": "stdout",
     "output_type": "stream",
     "text": [
      "[[0.00020059]]\n",
      "ham\n"
     ]
    }
   ],
   "source": [
    "data['text'][0]\n",
    "text = 'Go until jurong point, crazy.. Available only in bugis n great world la e buffet... Cine there got amore wat'\n",
    "a = predict(text)"
   ]
  },
  {
   "cell_type": "code",
   "execution_count": null,
   "id": "5c78f8f2",
   "metadata": {
    "papermill": {
     "duration": 0.038988,
     "end_time": "2024-08-25T05:02:18.756012",
     "exception": false,
     "start_time": "2024-08-25T05:02:18.717024",
     "status": "completed"
    },
    "tags": []
   },
   "outputs": [],
   "source": []
  }
 ],
 "metadata": {
  "kaggle": {
   "accelerator": "nvidiaTeslaT4",
   "dataSources": [
    {
     "datasetId": 483,
     "sourceId": 982,
     "sourceType": "datasetVersion"
    }
   ],
   "dockerImageVersionId": 30762,
   "isGpuEnabled": true,
   "isInternetEnabled": true,
   "language": "python",
   "sourceType": "notebook"
  },
  "kernelspec": {
   "display_name": "Python 3",
   "language": "python",
   "name": "python3"
  },
  "language_info": {
   "codemirror_mode": {
    "name": "ipython",
    "version": 3
   },
   "file_extension": ".py",
   "mimetype": "text/x-python",
   "name": "python",
   "nbconvert_exporter": "python",
   "pygments_lexer": "ipython3",
   "version": "3.10.14"
  },
  "papermill": {
   "default_parameters": {},
   "duration": 55.848398,
   "end_time": "2024-08-25T05:02:21.287877",
   "environment_variables": {},
   "exception": null,
   "input_path": "__notebook__.ipynb",
   "output_path": "__notebook__.ipynb",
   "parameters": {},
   "start_time": "2024-08-25T05:01:25.439479",
   "version": "2.6.0"
  }
 },
 "nbformat": 4,
 "nbformat_minor": 5
}
